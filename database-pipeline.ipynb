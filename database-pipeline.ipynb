{
 "cells": [
  {
   "cell_type": "markdown",
   "metadata": {},
   "source": [
    "# TODO: Pipeline\n",
    "https://www.tensorflow.org/guide/datasets#training_workflows\n",
    "- assemble pipeline for the simle model\n",
    "- could I use keras here?\n",
    "- could I use tensorflow board here?"
   ]
  },
  {
   "cell_type": "code",
   "execution_count": 2,
   "metadata": {
    "collapsed": true
   },
   "outputs": [],
   "source": [
    "import os\n",
    "import tensorflow as tf\n",
    "from tensorflow import keras"
   ]
  },
  {
   "cell_type": "code",
   "execution_count": 3,
   "metadata": {},
   "outputs": [
    {
     "name": "stdout",
     "output_type": "stream",
     "text": [
      "tf.__version__: 1.9.0-rc0\n",
      "keras.__version__: 2.1.6-tf\n"
     ]
    }
   ],
   "source": [
    "print('tf.__version__:', tf.__version__)\n",
    "print('keras.__version__:', keras.__version__)"
   ]
  },
  {
   "cell_type": "markdown",
   "metadata": {},
   "source": [
    "## TF.Dataset for CIFAR-10\n",
    "### Features\n",
    "- load data from site\n",
    "- convert internal CIFAR-10 format to the useful for tf.data.dataset (TFRecord)"
   ]
  },
  {
   "cell_type": "code",
   "execution_count": 4,
   "metadata": {},
   "outputs": [],
   "source": [
    "dataset_path = os.path.join(os.getcwd(), 'cifar10-data')"
   ]
  },
  {
   "cell_type": "code",
   "execution_count": null,
   "metadata": {
    "scrolled": false
   },
   "outputs": [
    {
     "name": "stdout",
     "output_type": "stream",
     "text": [
      "INFO:__main__:Download from https://www.cs.toronto.edu/~kriz/cifar-10-python.tar.gz and extract to /opt/notebooks/keras-experiments/cifar10-data.\r\n"
     ]
    }
   ],
   "source": [
    "!python ./cifar10/generate_cifar10_tfrecords.py --data-dir=\"$dataset_path\""
   ]
  },
  {
   "cell_type": "markdown",
   "metadata": {},
   "source": [
    "Show downloaded files"
   ]
  },
  {
   "cell_type": "code",
   "execution_count": 9,
   "metadata": {},
   "outputs": [
    {
     "name": "stdout",
     "output_type": "stream",
     "text": [
      "total 373888\r\n",
      "drwxr-xr-x  7 root root       224 Aug 19 13:31 .\r\n",
      "drwxr-xr-x 15 root root       480 Aug 19 13:32 ..\r\n",
      "drwxr-xr-x 10 2156 1103       320 Jun  4  2009 cifar-10-batches-py\r\n",
      "-rw-r--r--  1 root root 170498071 Aug 19 13:31 cifar-10-python.tar.gz\r\n",
      "-rw-r--r--  1 root root  31260000 Aug 19 13:31 eval.tfrecords\r\n",
      "-rw-r--r--  1 root root 125040000 Aug 19 13:31 train.tfrecords\r\n",
      "-rw-r--r--  1 root root  31260000 Aug 19 13:31 validation.tfrecords\r\n"
     ]
    }
   ],
   "source": [
    "!ls -la \"$dataset_path\""
   ]
  },
  {
   "cell_type": "markdown",
   "metadata": {},
   "source": [
    "- create dataset to consume TFRecord (lazy - without loading all at once to memory) - memory efficient strategy\n",
    "- data augmentation (flipping images)\n",
    "- TODO: cross validation"
   ]
  },
  {
   "cell_type": "markdown",
   "metadata": {},
   "source": [
    "## Use CIFAR-10 Dataset to train simple model\n",
    "- TODO: try to use keras\n",
    "- TODO: try to compare with and without TF.Dataset\n",
    "- TODO: connect to tf.board"
   ]
  }
 ],
 "metadata": {
  "kernelspec": {
   "display_name": "Python 3",
   "language": "python",
   "name": "python3"
  },
  "language_info": {
   "codemirror_mode": {
    "name": "ipython",
    "version": 3
   },
   "file_extension": ".py",
   "mimetype": "text/x-python",
   "name": "python",
   "nbconvert_exporter": "python",
   "pygments_lexer": "ipython3",
   "version": "3.6.6"
  }
 },
 "nbformat": 4,
 "nbformat_minor": 2
}
